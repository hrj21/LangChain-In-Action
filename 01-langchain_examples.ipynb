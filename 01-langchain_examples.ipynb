{
 "cells": [
  {
   "cell_type": "markdown",
   "metadata": {},
   "source": [
    "# Import packages"
   ]
  },
  {
   "cell_type": "code",
   "execution_count": 22,
   "metadata": {},
   "outputs": [],
   "source": [
    "from langchain_openai import ChatOpenAI\n",
    "import getpass\n",
    "import os\n",
    "from dotenv import load_dotenv"
   ]
  },
  {
   "cell_type": "markdown",
   "metadata": {},
   "source": [
    "# Get OpenAI API key"
   ]
  },
  {
   "cell_type": "code",
   "execution_count": 23,
   "metadata": {},
   "outputs": [],
   "source": [
    "load_dotenv()\n",
    "OPENAI_API_KEY = os.getenv('OPENAI_API_KEY')"
   ]
  },
  {
   "cell_type": "markdown",
   "metadata": {},
   "source": [
    "# Test LLM"
   ]
  },
  {
   "cell_type": "code",
   "execution_count": 24,
   "metadata": {},
   "outputs": [
    {
     "data": {
      "text/plain": [
       "AIMessage(content='...beach or a nearby pool to cool off! If you prefer staying indoors, you might consider going to an air-conditioned café or enjoying a refreshing drink at home. Another option could be visiting a local museum or an ice cream shop for a sweet treat. What sounds good to you?', additional_kwargs={'refusal': None}, response_metadata={'token_usage': {'completion_tokens': 59, 'prompt_tokens': 20, 'total_tokens': 79, 'completion_tokens_details': {'accepted_prediction_tokens': 0, 'audio_tokens': 0, 'reasoning_tokens': 0, 'rejected_prediction_tokens': 0}, 'prompt_tokens_details': {'audio_tokens': 0, 'cached_tokens': 0}}, 'model_name': 'gpt-4o-mini-2024-07-18', 'system_fingerprint': 'fp_b8bc95a0ac', 'id': 'chatcmpl-BDBL5wEtuQ5kClL2KhaKc1rvcXy7Z', 'finish_reason': 'stop', 'logprobs': None}, id='run-a66dc12d-0696-4724-b1f0-ed5980cbd4fc-0', usage_metadata={'input_tokens': 20, 'output_tokens': 59, 'total_tokens': 79, 'input_token_details': {'audio': 0, 'cache_read': 0}, 'output_token_details': {'audio': 0, 'reasoning': 0}})"
      ]
     },
     "execution_count": null,
     "metadata": {},
     "output_type": "execute_result"
    }
   ],
   "source": [
    "llm = ChatOpenAI(\n",
    "    openai_api_key = OPENAI_API_KEY,\n",
    "    model_name = \"gpt-4o-mini\"\n",
    "    )\n",
    "\n",
    "llm.invoke(\"It's a hot day, I would like to go to the...\")"
   ]
  },
  {
   "cell_type": "code",
   "execution_count": 25,
   "metadata": {},
   "outputs": [
    {
     "name": "stdout",
     "output_type": "stream",
     "text": [
      "content='Subject: Stay Alert: Protect Yourself from Phishing Attacks!\\n\\nDear Team,\\n\\nThis is a friendly reminder to stay vigilant against phishing attacks. Always be cautious when clicking on links or opening attachments in emails, especially if they come from unknown sources. Look for signs of phishing, such as unusual sender addresses or urgent requests for personal information.\\n\\nIf something seems off, trust your instincts—verify before you click! Together, we can keep our information safe.\\n\\nStay safe!\\n\\nBest,  \\n[Your Name]  \\n[Your Position]  ' additional_kwargs={'refusal': None} response_metadata={'token_usage': {'completion_tokens': 107, 'prompt_tokens': 23, 'total_tokens': 130, 'completion_tokens_details': {'accepted_prediction_tokens': 0, 'audio_tokens': 0, 'reasoning_tokens': 0, 'rejected_prediction_tokens': 0}, 'prompt_tokens_details': {'audio_tokens': 0, 'cached_tokens': 0}}, 'model_name': 'gpt-4o-mini-2024-07-18', 'system_fingerprint': 'fp_3267753c5d', 'id': 'chatcmpl-BDBL6BHVWIAMBE2yrgoGcG2I5wU3e', 'finish_reason': 'stop', 'logprobs': None} id='run-b7c00e7e-b55d-46ad-8a06-1d0ca79c3122-0' usage_metadata={'input_tokens': 23, 'output_tokens': 107, 'total_tokens': 130, 'input_token_details': {'audio': 0, 'cache_read': 0}, 'output_token_details': {'audio': 0, 'reasoning': 0}}\n",
      "content='Subject: Stay Alert: Protect Yourself from Phishing Attacks!\\n\\nDear Team,\\n\\nThis is a friendly reminder to stay vigilant against phishing attacks. Always be cautious when clicking on links or opening attachments in emails, especially if they come from unknown sources. Look for signs of phishing, such as unusual sender addresses or urgent requests for personal information.\\n\\nIf something seems off, trust your instincts—verify before you click! Together, we can keep our information safe.\\n\\nStay safe!\\n\\nBest,  \\n[Your Name]  \\n[Your Position]  ' additional_kwargs={'refusal': None} response_metadata={'token_usage': {'completion_tokens': 107, 'prompt_tokens': 23, 'total_tokens': 130, 'completion_tokens_details': {'accepted_prediction_tokens': 0, 'audio_tokens': 0, 'reasoning_tokens': 0, 'rejected_prediction_tokens': 0}, 'prompt_tokens_details': {'audio_tokens': 0, 'cached_tokens': 0}}, 'model_name': 'gpt-4o-mini-2024-07-18', 'system_fingerprint': 'fp_3267753c5d', 'id': 'chatcmpl-BDBL6BHVWIAMBE2yrgoGcG2I5wU3e', 'finish_reason': 'stop', 'logprobs': None} id='run-b7c00e7e-b55d-46ad-8a06-1d0ca79c3122-0' usage_metadata={'input_tokens': 23, 'output_tokens': 107, 'total_tokens': 130, 'input_token_details': {'audio': 0, 'cache_read': 0}, 'output_token_details': {'audio': 0, 'reasoning': 0}}\n"
     ]
    }
   ],
   "source": [
    "prompt_input = \"\"\"Write a short message to remind users to be vigilant about \n",
    "phishing attacks.\"\"\"\n",
    "response = llm.invoke(prompt_input)\n",
    "print(response)"
   ]
  },
  {
   "cell_type": "markdown",
   "metadata": {},
   "source": [
    "# Prompt templates"
   ]
  },
  {
   "cell_type": "code",
   "execution_count": 26,
   "metadata": {},
   "outputs": [
    {
     "name": "stdout",
     "output_type": "stream",
     "text": [
      "The Aqueduct of Segovia, a Roman marvel built circa 98 AD, symbolizes the city’s heritage and showcases remarkable engineering.\n",
      "The Aqueduct of Segovia, a Roman marvel built circa 98 AD, symbolizes the city’s heritage and showcases remarkable engineering.\n"
     ]
    }
   ],
   "source": [
    "from langchain_core.prompts import PromptTemplate\n",
    "segovia_aqueduct_text = \"The Aqueduct of Segovia (Spanish: Acueducto de Segovia) is a Roman aqueduct in Segovia, Spain. It was built around the first century AD to channel water from springs in the mountains 17 kilometres (11 mi) away to the city's fountains, public baths and private houses, and was in use until 1973. Its elevated section, with its complete arcade of 167 arches, is one of the best-preserved Roman aqueduct bridges and the foremost symbol of Segovia, as evidenced by its presence on the city's coat of arms. The Old Town of Segovia and the aqueduct, were declared a UNESCO World Heritage Site in 1985. As the aqueduct lacks a legible inscription (one was apparently located in the structure's attic, or top portion[citation needed]), the date of construction cannot be definitively determined. The general date of the Aqueduct's construction was long a mystery, although it was thought to have been during the 1st century AD, during the reigns of the Emperors Domitian, Nerva, and Trajan. At the end of the 20th century, Géza Alföldy deciphered the text on the dedication plaque by studying the anchors that held the now missing bronze letters in place. He determined that Emperor Domitian (AD 81–96) ordered its construction[1] and the year 98 AD was proposed as the most likely date of completion.[2] However, in 2016 archeological evidence was published which points to a slightly later date, after 112 AD, during the government of Trajan or in the beginning of the government of emperor Hadrian, from 117 AD.\"\n",
    "\n",
    "prompt_template = PromptTemplate.from_template(\"You are an experienced copywriter. Write a {num_words} words summary of the following text, using a {tone} tone: {text}\")\n",
    "\n",
    "prompt_input = prompt_template.format(\n",
    "    text = segovia_aqueduct_text,\n",
    "    num_words = 20,\n",
    "    tone = \"knowledgeable and engaging\"\n",
    ")\n",
    "\n",
    "response = llm.invoke(prompt_input)\n",
    "print(response.content)"
   ]
  },
  {
   "cell_type": "markdown",
   "metadata": {},
   "source": [
    "# Chains"
   ]
  },
  {
   "cell_type": "code",
   "execution_count": 27,
   "metadata": {},
   "outputs": [],
   "source": [
    "prompt_template = PromptTemplate.from_template(\"You are an experienced copywriter. Write a {num_words} words summary of the following text, using a {tone} tone: {text}\")\n",
    "llm = ChatOpenAI(\n",
    "    openai_api_key=OPENAI_API_KEY,\n",
    "    model_name=\"gpt-4o-mini\"\n",
    "    )\n",
    " \n",
    "chain = prompt_template | llm"
   ]
  },
  {
   "cell_type": "code",
   "execution_count": 28,
   "metadata": {},
   "outputs": [
    {
     "name": "stdout",
     "output_type": "stream",
     "text": [
      "The Aqueduct of Segovia, a 1st-century Roman marvel, symbolizes the city’s heritage, honored as a UNESCO World Heritage Site since 1985.\n",
      "The Aqueduct of Segovia, a 1st-century Roman marvel, symbolizes the city’s heritage, honored as a UNESCO World Heritage Site since 1985.\n"
     ]
    }
   ],
   "source": [
    "response = chain.invoke(\n",
    "    {\n",
    "        \"text\": segovia_aqueduct_text, \n",
    "        \"num_words\": 20, \n",
    "        \"tone\": \"knowledgeable and engaging\"\n",
    "        }\n",
    "    )\n",
    "\n",
    "print(response.content)"
   ]
  }
 ],
 "metadata": {
  "language_info": {
   "name": "python"
  }
 },
 "nbformat": 4,
 "nbformat_minor": 2
}
