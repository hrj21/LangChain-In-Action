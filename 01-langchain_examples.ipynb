{
 "cells": [
  {
   "cell_type": "markdown",
   "metadata": {},
   "source": [
    "# Import packages"
   ]
  },
  {
   "cell_type": "code",
   "execution_count": 5,
   "metadata": {},
   "outputs": [],
   "source": [
    "from langchain_openai import ChatOpenAI\n",
    "import getpass\n",
    "import os\n",
    "from dotenv import load_dotenv"
   ]
  },
  {
   "cell_type": "markdown",
   "metadata": {},
   "source": [
    "# Get OpenAI API key"
   ]
  },
  {
   "cell_type": "code",
   "execution_count": 12,
   "metadata": {},
   "outputs": [],
   "source": [
    "load_dotenv()\n",
    "OPENAI_API_KEY = os.getenv('OPENAI_API_KEY')"
   ]
  },
  {
   "cell_type": "markdown",
   "metadata": {},
   "source": [
    "# Test LLM"
   ]
  },
  {
   "cell_type": "code",
   "execution_count": 13,
   "metadata": {},
   "outputs": [
    {
     "data": {
      "text/plain": [
       "AIMessage(content=\"...beach! It's a great way to cool off and enjoy the sun. You can relax on the sand, take a dip in the water, or maybe even bring along some snacks and a good book. If you're not near a beach, consider going to a pool, a nearby lake, or even enjoying some shade in a park. What do you think?\", additional_kwargs={'refusal': None}, response_metadata={'token_usage': {'completion_tokens': 74, 'prompt_tokens': 20, 'total_tokens': 94, 'completion_tokens_details': {'accepted_prediction_tokens': 0, 'audio_tokens': 0, 'reasoning_tokens': 0, 'rejected_prediction_tokens': 0}, 'prompt_tokens_details': {'audio_tokens': 0, 'cached_tokens': 0}}, 'model_name': 'gpt-4o-mini-2024-07-18', 'system_fingerprint': 'fp_b8bc95a0ac', 'id': 'chatcmpl-BD7RytjdsNw2m7HTXsiqVfBRIkIbF', 'finish_reason': 'stop', 'logprobs': None}, id='run-b3360ac5-4550-4525-8e5e-65a173b40511-0', usage_metadata={'input_tokens': 20, 'output_tokens': 74, 'total_tokens': 94, 'input_token_details': {'audio': 0, 'cache_read': 0}, 'output_token_details': {'audio': 0, 'reasoning': 0}})"
      ]
     },
     "execution_count": null,
     "metadata": {},
     "output_type": "execute_result"
    }
   ],
   "source": [
    "llm = ChatOpenAI(\n",
    "    openai_api_key = OPENAI_API_KEY,\n",
    "    model_name = \"gpt-4o-mini\"\n",
    "    )\n",
    "\n",
    "llm.invoke(\"It's a hot day, I would like to go to the...\")"
   ]
  },
  {
   "cell_type": "code",
   "execution_count": 14,
   "metadata": {},
   "outputs": [
    {
     "name": "stdout",
     "output_type": "stream",
     "text": [
      "content=\"Subject: Stay Safe: Be Vigilant Against Phishing Attacks!\\n\\nDear Team,\\n\\nWe want to remind everyone to stay alert and cautious when interacting with emails and messages. Phishing attacks continue to rise, and scammers are becoming more sophisticated in their tactics.\\n\\nPlease be sure to:\\n- Verify the sender's email address before clicking on any links or downloading attachments.\\n- Avoid sharing personal information unless you are certain of the recipient's identity.\\n- Report any suspicious emails to our IT department immediately.\\n\\nYour vigilance helps protect not only you but our entire organization.\\n\\nStay safe!\\n\\nBest,  \\n[Your Name]  \\n[Your Position]  \\n[Your Company]\" additional_kwargs={'refusal': None} response_metadata={'token_usage': {'completion_tokens': 131, 'prompt_tokens': 23, 'total_tokens': 154, 'completion_tokens_details': {'accepted_prediction_tokens': 0, 'audio_tokens': 0, 'reasoning_tokens': 0, 'rejected_prediction_tokens': 0}, 'prompt_tokens_details': {'audio_tokens': 0, 'cached_tokens': 0}}, 'model_name': 'gpt-4o-mini-2024-07-18', 'system_fingerprint': 'fp_3267753c5d', 'id': 'chatcmpl-BD7VHBWkM5wUlHABToAnEFfgOOBpR', 'finish_reason': 'stop', 'logprobs': None} id='run-142405c0-636b-46f3-bb13-5c63abbd9d5c-0' usage_metadata={'input_tokens': 23, 'output_tokens': 131, 'total_tokens': 154, 'input_token_details': {'audio': 0, 'cache_read': 0}, 'output_token_details': {'audio': 0, 'reasoning': 0}}\n",
      "content=\"Subject: Stay Safe: Be Vigilant Against Phishing Attacks!\\n\\nDear Team,\\n\\nWe want to remind everyone to stay alert and cautious when interacting with emails and messages. Phishing attacks continue to rise, and scammers are becoming more sophisticated in their tactics.\\n\\nPlease be sure to:\\n- Verify the sender's email address before clicking on any links or downloading attachments.\\n- Avoid sharing personal information unless you are certain of the recipient's identity.\\n- Report any suspicious emails to our IT department immediately.\\n\\nYour vigilance helps protect not only you but our entire organization.\\n\\nStay safe!\\n\\nBest,  \\n[Your Name]  \\n[Your Position]  \\n[Your Company]\" additional_kwargs={'refusal': None} response_metadata={'token_usage': {'completion_tokens': 131, 'prompt_tokens': 23, 'total_tokens': 154, 'completion_tokens_details': {'accepted_prediction_tokens': 0, 'audio_tokens': 0, 'reasoning_tokens': 0, 'rejected_prediction_tokens': 0}, 'prompt_tokens_details': {'audio_tokens': 0, 'cached_tokens': 0}}, 'model_name': 'gpt-4o-mini-2024-07-18', 'system_fingerprint': 'fp_3267753c5d', 'id': 'chatcmpl-BD7VHBWkM5wUlHABToAnEFfgOOBpR', 'finish_reason': 'stop', 'logprobs': None} id='run-142405c0-636b-46f3-bb13-5c63abbd9d5c-0' usage_metadata={'input_tokens': 23, 'output_tokens': 131, 'total_tokens': 154, 'input_token_details': {'audio': 0, 'cache_read': 0}, 'output_token_details': {'audio': 0, 'reasoning': 0}}\n"
     ]
    }
   ],
   "source": [
    "prompt_input = \"\"\"Write a short message to remind users to be vigilant about \n",
    "phishing attacks.\"\"\"\n",
    "response = llm.invoke(prompt_input)\n",
    "print(response)"
   ]
  },
  {
   "cell_type": "markdown",
   "metadata": {},
   "source": [
    "# Prompt templates"
   ]
  },
  {
   "cell_type": "code",
   "execution_count": 17,
   "metadata": {},
   "outputs": [
    {
     "name": "stdout",
     "output_type": "stream",
     "text": [
      "The Aqueduct of Segovia, built in the 1st century AD, remains a stunning emblem of Roman engineering and Segovia's heritage.\n",
      "The Aqueduct of Segovia, built in the 1st century AD, remains a stunning emblem of Roman engineering and Segovia's heritage.\n"
     ]
    }
   ],
   "source": [
    "from langchain_core.prompts import PromptTemplate\n",
    "segovia_aqueduct_text = \"The Aqueduct of Segovia (Spanish: Acueducto de Segovia) is a Roman aqueduct in Segovia, Spain. It was built around the first century AD to channel water from springs in the mountains 17 kilometres (11 mi) away to the city's fountains, public baths and private houses, and was in use until 1973. Its elevated section, with its complete arcade of 167 arches, is one of the best-preserved Roman aqueduct bridges and the foremost symbol of Segovia, as evidenced by its presence on the city's coat of arms. The Old Town of Segovia and the aqueduct, were declared a UNESCO World Heritage Site in 1985. As the aqueduct lacks a legible inscription (one was apparently located in the structure's attic, or top portion[citation needed]), the date of construction cannot be definitively determined. The general date of the Aqueduct's construction was long a mystery, although it was thought to have been during the 1st century AD, during the reigns of the Emperors Domitian, Nerva, and Trajan. At the end of the 20th century, Géza Alföldy deciphered the text on the dedication plaque by studying the anchors that held the now missing bronze letters in place. He determined that Emperor Domitian (AD 81–96) ordered its construction[1] and the year 98 AD was proposed as the most likely date of completion.[2] However, in 2016 archeological evidence was published which points to a slightly later date, after 112 AD, during the government of Trajan or in the beginning of the government of emperor Hadrian, from 117 AD.\"\n",
    "\n",
    "prompt_template = PromptTemplate.from_template(\"You are an experienced copywriter. Write a {num_words} words summary of the following text, using a {tone} tone: {text}\")\n",
    "\n",
    "prompt_input = prompt_template.format(\n",
    "    text = segovia_aqueduct_text,\n",
    "    num_words = 20,\n",
    "    tone = \"knowledgeable and engaging\"\n",
    ")\n",
    "\n",
    "response = llm.invoke(prompt_input)\n",
    "print(response.content)"
   ]
  },
  {
   "cell_type": "markdown",
   "metadata": {},
   "source": [
    "# Chains"
   ]
  },
  {
   "cell_type": "code",
   "execution_count": 18,
   "metadata": {},
   "outputs": [],
   "source": [
    "prompt_template = PromptTemplate.from_template(\"You are an experienced copywriter. Write a {num_words} words summary of the following text, using a {tone} tone: {text}\")\n",
    "llm = ChatOpenAI(\n",
    "    openai_api_key=OPENAI_API_KEY,\n",
    "    model_name=\"gpt-4o-mini\"\n",
    "    )\n",
    " \n",
    "chain = prompt_template | llm"
   ]
  },
  {
   "cell_type": "code",
   "execution_count": 19,
   "metadata": {},
   "outputs": [
    {
     "name": "stdout",
     "output_type": "stream",
     "text": [
      "The Aqueduct of Segovia, a Roman marvel, symbolizes the city, channeling water since the 1st century, now UNESCO-listed.\n",
      "The Aqueduct of Segovia, a Roman marvel, symbolizes the city, channeling water since the 1st century, now UNESCO-listed.\n"
     ]
    }
   ],
   "source": [
    "response = chain.invoke(\n",
    "    {\n",
    "        \"text\": segovia_aqueduct_text, \n",
    "        \"num_words\": 20, \n",
    "        \"tone\": \"knowledgeable and engaging\"\n",
    "        }\n",
    "    )\n",
    "\n",
    "print(response.content)"
   ]
  }
 ],
 "metadata": {
  "language_info": {
   "name": "python"
  }
 },
 "nbformat": 4,
 "nbformat_minor": 2
}
