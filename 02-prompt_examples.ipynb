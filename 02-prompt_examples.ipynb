{
 "cells": [
  {
   "cell_type": "markdown",
   "metadata": {},
   "source": [
    "# Import packages and get API key"
   ]
  },
  {
   "cell_type": "code",
   "execution_count": 34,
   "metadata": {},
   "outputs": [],
   "source": [
    "from openai import OpenAI\n",
    "import os\n",
    "from dotenv import load_dotenv\n",
    "\n",
    "load_dotenv()\n",
    "OPENAI_API_KEY = os.getenv('OPENAI_API_KEY')\n",
    "client = OpenAI(api_key= OPENAI_API_KEY)"
   ]
  },
  {
   "cell_type": "markdown",
   "metadata": {},
   "source": [
    "# OpenAI interface to making queries"
   ]
  },
  {
   "cell_type": "code",
   "execution_count": 35,
   "metadata": {},
   "outputs": [
    {
     "name": "stdout",
     "output_type": "stream",
     "text": [
      "ChatCompletion(id='chatcmpl-BDBLBKVn5b9gqdPZRjhtf5yzdSlg3', choices=[Choice(finish_reason='stop', index=0, logprobs=None, message=ChatCompletionMessage(content='Subject: Stay Vigilant Against Phishing Attacks\\n\\nDear Team,\\n\\nWe want to remind everyone to stay vigilant against phishing attacks. Always be cautious when opening emails or messages from unknown senders, and never click on suspicious links or provide personal information without verifying the source. \\n\\nIf you encounter any suspicious activity, please report it immediately. Your awareness is our best defense!\\n\\nStay safe,\\n[Your Name/Your Team]', refusal=None, role='assistant', annotations=[], audio=None, function_call=None, tool_calls=None))], created=1742481557, model='gpt-4o-mini-2024-07-18', object='chat.completion', service_tier='default', system_fingerprint='fp_b8bc95a0ac', usage=CompletionUsage(completion_tokens=85, prompt_tokens=33, total_tokens=118, completion_tokens_details=CompletionTokensDetails(accepted_prediction_tokens=0, audio_tokens=0, reasoning_tokens=0, rejected_prediction_tokens=0), prompt_tokens_details=PromptTokensDetails(audio_tokens=0, cached_tokens=0)))\n",
      "Subject: Stay Vigilant Against Phishing Attacks\n",
      "\n",
      "Dear Team,\n",
      "\n",
      "We want to remind everyone to stay vigilant against phishing attacks. Always be cautious when opening emails or messages from unknown senders, and never click on suspicious links or provide personal information without verifying the source. \n",
      "\n",
      "If you encounter any suspicious activity, please report it immediately. Your awareness is our best defense!\n",
      "\n",
      "Stay safe,\n",
      "[Your Name/Your Team]\n",
      "ChatCompletion(id='chatcmpl-BDBLBKVn5b9gqdPZRjhtf5yzdSlg3', choices=[Choice(finish_reason='stop', index=0, logprobs=None, message=ChatCompletionMessage(content='Subject: Stay Vigilant Against Phishing Attacks\\n\\nDear Team,\\n\\nWe want to remind everyone to stay vigilant against phishing attacks. Always be cautious when opening emails or messages from unknown senders, and never click on suspicious links or provide personal information without verifying the source. \\n\\nIf you encounter any suspicious activity, please report it immediately. Your awareness is our best defense!\\n\\nStay safe,\\n[Your Name/Your Team]', refusal=None, role='assistant', annotations=[], audio=None, function_call=None, tool_calls=None))], created=1742481557, model='gpt-4o-mini-2024-07-18', object='chat.completion', service_tier='default', system_fingerprint='fp_b8bc95a0ac', usage=CompletionUsage(completion_tokens=85, prompt_tokens=33, total_tokens=118, completion_tokens_details=CompletionTokensDetails(accepted_prediction_tokens=0, audio_tokens=0, reasoning_tokens=0, rejected_prediction_tokens=0), prompt_tokens_details=PromptTokensDetails(audio_tokens=0, cached_tokens=0)))\n",
      "Subject: Stay Vigilant Against Phishing Attacks\n",
      "\n",
      "Dear Team,\n",
      "\n",
      "We want to remind everyone to stay vigilant against phishing attacks. Always be cautious when opening emails or messages from unknown senders, and never click on suspicious links or provide personal information without verifying the source. \n",
      "\n",
      "If you encounter any suspicious activity, please report it immediately. Your awareness is our best defense!\n",
      "\n",
      "Stay safe,\n",
      "[Your Name/Your Team]\n"
     ]
    }
   ],
   "source": [
    "prompt_input = \"\"\"Write a short message to remind users to be vigilant about \n",
    "phishing attacks.\"\"\"\n",
    "\n",
    "response = client.chat.completions.create(\n",
    "  model=\"gpt-4o-mini\",\n",
    "  messages=[\n",
    "    {\"role\": \"system\", \"content\": \"You are a helpful assistant.\"},\n",
    "    {\"role\": \"user\", \"content\": prompt_input}\n",
    "  ],\n",
    "  temperature= 0.7,\n",
    "  max_tokens= 400  \n",
    ")\n",
    " \n",
    "print(response)\n",
    "print(response.choices[0].message.content)"
   ]
  },
  {
   "cell_type": "markdown",
   "metadata": {},
   "source": [
    "# LangChain interface for the same query"
   ]
  },
  {
   "cell_type": "code",
   "execution_count": 36,
   "metadata": {},
   "outputs": [],
   "source": [
    "from langchain_openai import ChatOpenAI\n",
    "llm = ChatOpenAI(\n",
    "    openai_api_key = OPENAI_API_KEY,\n",
    "    model_name = \"gpt-4o-mini\"\n",
    ")"
   ]
  },
  {
   "cell_type": "code",
   "execution_count": 37,
   "metadata": {},
   "outputs": [
    {
     "name": "stdout",
     "output_type": "stream",
     "text": [
      "🚨 Important Reminder: Stay Vigilant Against Phishing Scams! 🚨 \n",
      "\n",
      "Always verify the sender's identity before clicking links or providing personal information. Look out for suspicious emails or messages, even if they seem legitimate. Protect your information—think before you click! \n",
      "\n",
      "Stay safe! 🛡️\n",
      "🚨 Important Reminder: Stay Vigilant Against Phishing Scams! 🚨 \n",
      "\n",
      "Always verify the sender's identity before clicking links or providing personal information. Look out for suspicious emails or messages, even if they seem legitimate. Protect your information—think before you click! \n",
      "\n",
      "Stay safe! 🛡️\n"
     ]
    }
   ],
   "source": [
    "prompt_input = \"\"\"Write a coincise message to remind users to be vigilant about phishing attacks.\"\"\"\n",
    " \n",
    "response = llm.invoke(prompt_input)\n",
    "print(response.content)"
   ]
  },
  {
   "cell_type": "markdown",
   "metadata": {},
   "source": [
    "# Creating prompt templates (manually)"
   ]
  },
  {
   "cell_type": "code",
   "execution_count": 38,
   "metadata": {},
   "outputs": [],
   "source": [
    "def generate_text_summary_prompt(text, num_words, tone):\n",
    "    return f'You are an experienced copywriter. Write a {num_words} words summary the the following text, using a {tone} tone: {text}'"
   ]
  },
  {
   "cell_type": "code",
   "execution_count": 39,
   "metadata": {},
   "outputs": [
    {
     "name": "stdout",
     "output_type": "stream",
     "text": [
      "The Aqueduct of Segovia, a UNESCO World Heritage Site, showcases Roman engineering brilliance and transported water to the city for centuries.\n",
      "The Aqueduct of Segovia, a UNESCO World Heritage Site, showcases Roman engineering brilliance and transported water to the city for centuries.\n"
     ]
    }
   ],
   "source": [
    "segovia_aqueduct_text = \"The Aqueduct of Segovia (Spanish: Acueducto de Segovia) is a Roman aqueduct in Segovia, Spain. It was built around the first century AD to channel water from springs in the mountains 17 kilometres (11 mi) away to the city's fountains, public baths and private houses, and was in use until 1973. Its elevated section, with its complete arcade of 167 arches, is one of the best-preserved Roman aqueduct bridges and the foremost symbol of Segovia, as evidenced by its presence on the city's coat of arms. The Old Town of Segovia and the aqueduct, were declared a UNESCO World Heritage Site in 1985. As the aqueduct lacks a legible inscription (one was apparently located in the structure's attic, or top portion[citation needed]), the date of construction cannot be definitively determined. The general date of the Aqueduct's construction was long a mystery, although it was thought to have been during the 1st century AD, during the reigns of the Emperors Domitian, Nerva, and Trajan. At the end of the 20th century, Géza Alföldy deciphered the text on the dedication plaque by studying the anchors that held the now missing bronze letters in place. He determined that Emperor Domitian (AD 81–96) ordered its construction[1] and the year 98 AD was proposed as the most likely date of completion.[2] However, in 2016 archeological evidence was published which points to a slightly later date, after 112 AD, during the government of Trajan or in the beginning of the government of emperor Hadrian, from 117 AD.\"\n",
    " \n",
    "input_prompt = generate_text_summary_prompt(text=segovia_aqueduct_text, num_words=20, tone=\"knowledgeable and engaging\")\n",
    " \n",
    "response = llm.invoke(input_prompt)\n",
    "print(response.content) "
   ]
  },
  {
   "cell_type": "markdown",
   "metadata": {},
   "source": [
    "# Creating prompt templates (with LangChain)"
   ]
  },
  {
   "cell_type": "code",
   "execution_count": 40,
   "metadata": {},
   "outputs": [
    {
     "name": "stdout",
     "output_type": "stream",
     "text": [
      "The Aqueduct of Segovia, a Roman engineering marvel completed around 112 AD, remains a UNESCO World Heritage Site and iconic symbol.\n",
      "The Aqueduct of Segovia, a Roman engineering marvel completed around 112 AD, remains a UNESCO World Heritage Site and iconic symbol.\n"
     ]
    }
   ],
   "source": [
    "from langchain_core.prompts import PromptTemplate\n",
    "prompt_template = PromptTemplate.from_template(\n",
    "    \"\"\"You are an experienced copywriter. Write a {num_words} words summary the \n",
    "    the following text, using a {tone} tone: {text}\"\"\"\n",
    ")\n",
    "\n",
    "prompt = prompt_template.format(\n",
    "    text=segovia_aqueduct_text, \n",
    "    num_words=20, \n",
    "    tone=\"knowledgeable and engaging\"\n",
    ")\n",
    "\n",
    "response = llm.invoke(prompt)\n",
    "print(response.content)"
   ]
  },
  {
   "cell_type": "markdown",
   "metadata": {},
   "source": [
    "# Few-shot training"
   ]
  },
  {
   "cell_type": "code",
   "execution_count": 41,
   "metadata": {},
   "outputs": [
    {
     "name": "stdout",
     "output_type": "stream",
     "text": [
      "To classify the numbers into \"Abra,\" \"Kadabra,\" and \"Abra Kadabra,\" we can use the given rules based on divisibility:\n",
      "\n",
      "- \"Abra\" means divisible by 5 but not by 7.\n",
      "- \"Kadabra\" means divisible by 7 but not by 5.\n",
      "- \"Abra Kadabra\" means divisible by both 5 and 7.\n",
      "- None means not divisible by either 5 or 7.\n",
      "\n",
      "Now let's classify the given numbers (3, 4, 5, 7, 8, 10, 11, 13, 35):\n",
      "\n",
      "1. **3**: not divisible by 5 nor by 7 - **None**\n",
      "2. **4**: not divisible by 5 nor by 7 - **None**\n",
      "3. **5**: divisible by 5 but not by 7 - **Abra**\n",
      "4. **7**: divisible by 7 but not by 5 - **Kadabra**\n",
      "5. **8**: not divisible by 5 nor by 7 - **None**\n",
      "6. **10**: divisible by 5 but not by 7 - **Abra**\n",
      "7. **11**: not divisible by 5 nor by 7 - **None**\n",
      "8. **13**: not divisible by 5 nor by 7 - **None**\n",
      "9. **35**: divisible by both 5 and 7 - **Abra Kadabra**\n",
      "\n",
      "Summary of classifications:\n",
      "- 3: None\n",
      "- 4: None\n",
      "- 5: Abra\n",
      "- 7: Kadabra\n",
      "- 8: None\n",
      "- 10: Abra\n",
      "- 11: None\n",
      "- 13: None\n",
      "- 35: Abra Kadabra\n",
      "To classify the numbers into \"Abra,\" \"Kadabra,\" and \"Abra Kadabra,\" we can use the given rules based on divisibility:\n",
      "\n",
      "- \"Abra\" means divisible by 5 but not by 7.\n",
      "- \"Kadabra\" means divisible by 7 but not by 5.\n",
      "- \"Abra Kadabra\" means divisible by both 5 and 7.\n",
      "- None means not divisible by either 5 or 7.\n",
      "\n",
      "Now let's classify the given numbers (3, 4, 5, 7, 8, 10, 11, 13, 35):\n",
      "\n",
      "1. **3**: not divisible by 5 nor by 7 - **None**\n",
      "2. **4**: not divisible by 5 nor by 7 - **None**\n",
      "3. **5**: divisible by 5 but not by 7 - **Abra**\n",
      "4. **7**: divisible by 7 but not by 5 - **Kadabra**\n",
      "5. **8**: not divisible by 5 nor by 7 - **None**\n",
      "6. **10**: divisible by 5 but not by 7 - **Abra**\n",
      "7. **11**: not divisible by 5 nor by 7 - **None**\n",
      "8. **13**: not divisible by 5 nor by 7 - **None**\n",
      "9. **35**: divisible by both 5 and 7 - **Abra Kadabra**\n",
      "\n",
      "Summary of classifications:\n",
      "- 3: None\n",
      "- 4: None\n",
      "- 5: Abra\n",
      "- 7: Kadabra\n",
      "- 8: None\n",
      "- 10: Abra\n",
      "- 11: None\n",
      "- 13: None\n",
      "- 35: Abra Kadabra\n"
     ]
    }
   ],
   "source": [
    "from langchain_core.prompts.few_shot import FewShotPromptTemplate\n",
    "\n",
    "examples = [\n",
    "  {\n",
    "      \"number\": 6,\n",
    "      \"reasoning\": \"not divisible by 5 nor by 7\",\n",
    "      \"result\": \"None\"\n",
    "  },\n",
    "  {\n",
    "      \"number\": 15,\n",
    "      \"reasoning\": \"divisible by 5 but not by 7\",\n",
    "      \"result\": \"Abra\"\n",
    "  },\n",
    "  {\n",
    "      \"number\": 12,\n",
    "      \"reasoning\": \"not divisible by 5 nor by 7\",\n",
    "      \"result\": \"None\"\n",
    "  },\n",
    "  {\n",
    "      \"number\": 21,\n",
    "      \"reasoning\": \"divisible by 7 but not by 5\",\n",
    "      \"result\": \"Kadabra\"\n",
    "  },\n",
    "  {\n",
    "      \"number\": 70,\n",
    "      \"reasoning\": \"divisible by 5 and by 7\",\n",
    "      \"result\": \"Abra Kadabra\"\n",
    "  } ]\n",
    "\n",
    "example_prompt = PromptTemplate(\n",
    "    input_variables = [\"number\", \"reasoning\", \"result\"],\n",
    "    template=\"{number} \\\\ {reasoning} \\\\ {result}\"\n",
    ")\n",
    "\n",
    "few_shot_prompt = FewShotPromptTemplate(\n",
    "    examples=examples,\n",
    "    example_prompt=example_prompt,\n",
    "    suffix=\"Classify the following numbers as Abra, Kadabra or Abra Kadabra: {comma_delimited_input_numbers}\",\n",
    "    input_variables=[\"comma_delimited_input_numbers\"]\n",
    ")\n",
    "\n",
    "prompt_input = few_shot_prompt.format(\n",
    "    comma_delimited_input_numbers=\"3, 4, 5, 7, 8, 10, 11, 13, 35.\"\n",
    ")\n",
    "\n",
    "response = llm.invoke(prompt_input)\n",
    "print(response.content)"
   ]
  }
 ],
 "metadata": {
  "language_info": {
   "name": "python"
  }
 },
 "nbformat": 4,
 "nbformat_minor": 2
}
